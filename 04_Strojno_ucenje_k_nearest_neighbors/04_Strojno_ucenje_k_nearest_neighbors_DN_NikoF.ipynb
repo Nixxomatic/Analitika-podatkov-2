{
 "cells": [
  {
   "cell_type": "markdown",
   "metadata": {},
   "source": [
    "<div class=\"alert alert-block alert-info\">\n",
    "<b>Vaja: </b> \n",
    "Uvozite dataset <i>WineQuality.csv</i>, ki vsebuje oceno kvalitete portugalskega vina \"Vinho Verde\".\n",
    "    \n",
    "Ustvarite KNeighborsRegressor model, ki bo napovedoval kvaliteto.\n",
    "    \n",
    "Za primerjavo - naš najboljši model je imel sledeče karakteristike:\n",
    "    \n",
    "    RMSE:        0.654\n",
    "    KFold:       9\n",
    "    k-neighbors: 13\n",
    "</div>"
   ]
  },
  {
   "cell_type": "markdown",
   "metadata": {},
   "source": [
    "# Uvoz podatkov"
   ]
  },
  {
   "cell_type": "code",
   "execution_count": 1,
   "metadata": {},
   "outputs": [],
   "source": [
    "import pandas as pd\n",
    "import numpy as np\n",
    "import matplotlib.pyplot as plt"
   ]
  },
  {
   "cell_type": "code",
   "execution_count": 2,
   "metadata": {},
   "outputs": [],
   "source": [
    "wine_quality = pd.read_csv(\"data/WineQuality.csv\", header=None)"
   ]
  },
  {
   "cell_type": "code",
   "execution_count": 3,
   "metadata": {},
   "outputs": [
    {
     "data": {
      "text/html": [
       "<div>\n",
       "<style scoped>\n",
       "    .dataframe tbody tr th:only-of-type {\n",
       "        vertical-align: middle;\n",
       "    }\n",
       "\n",
       "    .dataframe tbody tr th {\n",
       "        vertical-align: top;\n",
       "    }\n",
       "\n",
       "    .dataframe thead th {\n",
       "        text-align: right;\n",
       "    }\n",
       "</style>\n",
       "<table border=\"1\" class=\"dataframe\">\n",
       "  <thead>\n",
       "    <tr style=\"text-align: right;\">\n",
       "      <th></th>\n",
       "      <th>0</th>\n",
       "      <th>1</th>\n",
       "      <th>2</th>\n",
       "      <th>3</th>\n",
       "      <th>4</th>\n",
       "      <th>5</th>\n",
       "      <th>6</th>\n",
       "      <th>7</th>\n",
       "      <th>8</th>\n",
       "      <th>9</th>\n",
       "      <th>10</th>\n",
       "      <th>11</th>\n",
       "      <th>12</th>\n",
       "    </tr>\n",
       "  </thead>\n",
       "  <tbody>\n",
       "    <tr>\n",
       "      <th>0</th>\n",
       "      <td>1</td>\n",
       "      <td>7.4</td>\n",
       "      <td>0.70</td>\n",
       "      <td>0.00</td>\n",
       "      <td>1.9</td>\n",
       "      <td>0.076</td>\n",
       "      <td>11.0</td>\n",
       "      <td>34.0</td>\n",
       "      <td>0.9978</td>\n",
       "      <td>3.51</td>\n",
       "      <td>0.56</td>\n",
       "      <td>9.4 %</td>\n",
       "      <td>5.0</td>\n",
       "    </tr>\n",
       "    <tr>\n",
       "      <th>1</th>\n",
       "      <td>2</td>\n",
       "      <td>7.8</td>\n",
       "      <td>0.88</td>\n",
       "      <td>0.00</td>\n",
       "      <td>2.6</td>\n",
       "      <td>0.098</td>\n",
       "      <td>25.0</td>\n",
       "      <td>67.0</td>\n",
       "      <td>0.9968</td>\n",
       "      <td>3.20</td>\n",
       "      <td>0.68</td>\n",
       "      <td>9.8 %</td>\n",
       "      <td>5.0</td>\n",
       "    </tr>\n",
       "    <tr>\n",
       "      <th>2</th>\n",
       "      <td>3</td>\n",
       "      <td>7.8</td>\n",
       "      <td>0.76</td>\n",
       "      <td>0.04</td>\n",
       "      <td>2.3</td>\n",
       "      <td>0.092</td>\n",
       "      <td>15.0</td>\n",
       "      <td>54.0</td>\n",
       "      <td>0.9970</td>\n",
       "      <td>3.26</td>\n",
       "      <td>0.65</td>\n",
       "      <td>9.8 %</td>\n",
       "      <td>5.0</td>\n",
       "    </tr>\n",
       "    <tr>\n",
       "      <th>3</th>\n",
       "      <td>4</td>\n",
       "      <td>11.2</td>\n",
       "      <td>0.28</td>\n",
       "      <td>0.56</td>\n",
       "      <td>1.9</td>\n",
       "      <td>0.075</td>\n",
       "      <td>17.0</td>\n",
       "      <td>60.0</td>\n",
       "      <td>0.9980</td>\n",
       "      <td>3.16</td>\n",
       "      <td>0.58</td>\n",
       "      <td>9.8 %</td>\n",
       "      <td>6.0</td>\n",
       "    </tr>\n",
       "    <tr>\n",
       "      <th>4</th>\n",
       "      <td>5</td>\n",
       "      <td>7.4</td>\n",
       "      <td>0.70</td>\n",
       "      <td>0.00</td>\n",
       "      <td>1.9</td>\n",
       "      <td>0.076</td>\n",
       "      <td>11.0</td>\n",
       "      <td>34.0</td>\n",
       "      <td>0.9978</td>\n",
       "      <td>3.51</td>\n",
       "      <td>0.56</td>\n",
       "      <td>9.4 %</td>\n",
       "      <td>5.0</td>\n",
       "    </tr>\n",
       "  </tbody>\n",
       "</table>\n",
       "</div>"
      ],
      "text/plain": [
       "   0     1     2     3    4      5     6     7       8     9     10     11  \\\n",
       "0   1   7.4  0.70  0.00  1.9  0.076  11.0  34.0  0.9978  3.51  0.56  9.4 %   \n",
       "1   2   7.8  0.88  0.00  2.6  0.098  25.0  67.0  0.9968  3.20  0.68  9.8 %   \n",
       "2   3   7.8  0.76  0.04  2.3  0.092  15.0  54.0  0.9970  3.26  0.65  9.8 %   \n",
       "3   4  11.2  0.28  0.56  1.9  0.075  17.0  60.0  0.9980  3.16  0.58  9.8 %   \n",
       "4   5   7.4  0.70  0.00  1.9  0.076  11.0  34.0  0.9978  3.51  0.56  9.4 %   \n",
       "\n",
       "    12  \n",
       "0  5.0  \n",
       "1  5.0  \n",
       "2  5.0  \n",
       "3  6.0  \n",
       "4  5.0  "
      ]
     },
     "execution_count": 3,
     "metadata": {},
     "output_type": "execute_result"
    }
   ],
   "source": [
    "wine_quality.head()"
   ]
  },
  {
   "cell_type": "markdown",
   "metadata": {},
   "source": [
    "# Cleaning data"
   ]
  },
  {
   "cell_type": "code",
   "execution_count": 4,
   "metadata": {},
   "outputs": [
    {
     "data": {
      "text/html": [
       "<div>\n",
       "<style scoped>\n",
       "    .dataframe tbody tr th:only-of-type {\n",
       "        vertical-align: middle;\n",
       "    }\n",
       "\n",
       "    .dataframe tbody tr th {\n",
       "        vertical-align: top;\n",
       "    }\n",
       "\n",
       "    .dataframe thead th {\n",
       "        text-align: right;\n",
       "    }\n",
       "</style>\n",
       "<table border=\"1\" class=\"dataframe\">\n",
       "  <thead>\n",
       "    <tr style=\"text-align: right;\">\n",
       "      <th></th>\n",
       "      <th>ID</th>\n",
       "      <th>fixedacidity</th>\n",
       "      <th>volatileacidity</th>\n",
       "      <th>citricacid</th>\n",
       "      <th>residualsugar</th>\n",
       "      <th>chlorides</th>\n",
       "      <th>freesulfurdioxide</th>\n",
       "      <th>totalsulfurdioxide</th>\n",
       "      <th>density</th>\n",
       "      <th>pH</th>\n",
       "      <th>sulphates</th>\n",
       "      <th>alcohol</th>\n",
       "      <th>quality</th>\n",
       "    </tr>\n",
       "  </thead>\n",
       "  <tbody>\n",
       "    <tr>\n",
       "      <th>0</th>\n",
       "      <td>1</td>\n",
       "      <td>7.4</td>\n",
       "      <td>0.70</td>\n",
       "      <td>0.00</td>\n",
       "      <td>1.9</td>\n",
       "      <td>0.076</td>\n",
       "      <td>11.0</td>\n",
       "      <td>34.0</td>\n",
       "      <td>0.9978</td>\n",
       "      <td>3.51</td>\n",
       "      <td>0.56</td>\n",
       "      <td>9.4 %</td>\n",
       "      <td>5.0</td>\n",
       "    </tr>\n",
       "    <tr>\n",
       "      <th>1</th>\n",
       "      <td>2</td>\n",
       "      <td>7.8</td>\n",
       "      <td>0.88</td>\n",
       "      <td>0.00</td>\n",
       "      <td>2.6</td>\n",
       "      <td>0.098</td>\n",
       "      <td>25.0</td>\n",
       "      <td>67.0</td>\n",
       "      <td>0.9968</td>\n",
       "      <td>3.20</td>\n",
       "      <td>0.68</td>\n",
       "      <td>9.8 %</td>\n",
       "      <td>5.0</td>\n",
       "    </tr>\n",
       "    <tr>\n",
       "      <th>2</th>\n",
       "      <td>3</td>\n",
       "      <td>7.8</td>\n",
       "      <td>0.76</td>\n",
       "      <td>0.04</td>\n",
       "      <td>2.3</td>\n",
       "      <td>0.092</td>\n",
       "      <td>15.0</td>\n",
       "      <td>54.0</td>\n",
       "      <td>0.9970</td>\n",
       "      <td>3.26</td>\n",
       "      <td>0.65</td>\n",
       "      <td>9.8 %</td>\n",
       "      <td>5.0</td>\n",
       "    </tr>\n",
       "    <tr>\n",
       "      <th>3</th>\n",
       "      <td>4</td>\n",
       "      <td>11.2</td>\n",
       "      <td>0.28</td>\n",
       "      <td>0.56</td>\n",
       "      <td>1.9</td>\n",
       "      <td>0.075</td>\n",
       "      <td>17.0</td>\n",
       "      <td>60.0</td>\n",
       "      <td>0.9980</td>\n",
       "      <td>3.16</td>\n",
       "      <td>0.58</td>\n",
       "      <td>9.8 %</td>\n",
       "      <td>6.0</td>\n",
       "    </tr>\n",
       "    <tr>\n",
       "      <th>4</th>\n",
       "      <td>5</td>\n",
       "      <td>7.4</td>\n",
       "      <td>0.70</td>\n",
       "      <td>0.00</td>\n",
       "      <td>1.9</td>\n",
       "      <td>0.076</td>\n",
       "      <td>11.0</td>\n",
       "      <td>34.0</td>\n",
       "      <td>0.9978</td>\n",
       "      <td>3.51</td>\n",
       "      <td>0.56</td>\n",
       "      <td>9.4 %</td>\n",
       "      <td>5.0</td>\n",
       "    </tr>\n",
       "  </tbody>\n",
       "</table>\n",
       "</div>"
      ],
      "text/plain": [
       "   ID  fixedacidity  volatileacidity  citricacid  residualsugar  chlorides  \\\n",
       "0   1           7.4             0.70        0.00            1.9      0.076   \n",
       "1   2           7.8             0.88        0.00            2.6      0.098   \n",
       "2   3           7.8             0.76        0.04            2.3      0.092   \n",
       "3   4          11.2             0.28        0.56            1.9      0.075   \n",
       "4   5           7.4             0.70        0.00            1.9      0.076   \n",
       "\n",
       "   freesulfurdioxide  totalsulfurdioxide  density    pH  sulphates alcohol  \\\n",
       "0               11.0                34.0   0.9978  3.51       0.56   9.4 %   \n",
       "1               25.0                67.0   0.9968  3.20       0.68   9.8 %   \n",
       "2               15.0                54.0   0.9970  3.26       0.65   9.8 %   \n",
       "3               17.0                60.0   0.9980  3.16       0.58   9.8 %   \n",
       "4               11.0                34.0   0.9978  3.51       0.56   9.4 %   \n",
       "\n",
       "   quality  \n",
       "0      5.0  \n",
       "1      5.0  \n",
       "2      5.0  \n",
       "3      6.0  \n",
       "4      5.0  "
      ]
     },
     "execution_count": 4,
     "metadata": {},
     "output_type": "execute_result"
    }
   ],
   "source": [
    "wine_quality.columns = [\"ID\", \n",
    "                        \"fixedacidity\", \n",
    "                        \"volatileacidity\", \n",
    "                        \"citricacid\", \n",
    "                        \"residualsugar\", \n",
    "                        \"chlorides\", \n",
    "                        \"freesulfurdioxide\", \n",
    "                        \"totalsulfurdioxide\", \n",
    "                        \"density\", \n",
    "                        \"pH\", \n",
    "                        \"sulphates\", \n",
    "                        \"alcohol\", \n",
    "                        \"quality\"]\n",
    "\n",
    "wine_quality.head()"
   ]
  },
  {
   "cell_type": "code",
   "execution_count": 5,
   "metadata": {},
   "outputs": [
    {
     "name": "stdout",
     "output_type": "stream",
     "text": [
      "<class 'pandas.core.frame.DataFrame'>\n",
      "RangeIndex: 1599 entries, 0 to 1598\n",
      "Data columns (total 13 columns):\n",
      " #   Column              Non-Null Count  Dtype  \n",
      "---  ------              --------------  -----  \n",
      " 0   ID                  1599 non-null   int64  \n",
      " 1   fixedacidity        1582 non-null   float64\n",
      " 2   volatileacidity     1590 non-null   float64\n",
      " 3   citricacid          1579 non-null   float64\n",
      " 4   residualsugar       1582 non-null   float64\n",
      " 5   chlorides           1584 non-null   float64\n",
      " 6   freesulfurdioxide   1587 non-null   float64\n",
      " 7   totalsulfurdioxide  1586 non-null   float64\n",
      " 8   density             1580 non-null   float64\n",
      " 9   pH                  1580 non-null   float64\n",
      " 10  sulphates           1585 non-null   float64\n",
      " 11  alcohol             1581 non-null   object \n",
      " 12  quality             1585 non-null   float64\n",
      "dtypes: float64(11), int64(1), object(1)\n",
      "memory usage: 162.5+ KB\n"
     ]
    }
   ],
   "source": [
    "wine_quality.info()"
   ]
  },
  {
   "cell_type": "code",
   "execution_count": 6,
   "metadata": {},
   "outputs": [],
   "source": [
    "# Stolpec alcohol je object, želimo pa, da je float"
   ]
  },
  {
   "cell_type": "code",
   "execution_count": 7,
   "metadata": {},
   "outputs": [],
   "source": [
    "wine_quality[\"alcohol\"] = wine_quality[\"alcohol\"].str.rstrip(\" %\").astype(\"float\")/100.0"
   ]
  },
  {
   "cell_type": "code",
   "execution_count": 8,
   "metadata": {},
   "outputs": [
    {
     "name": "stdout",
     "output_type": "stream",
     "text": [
      "<class 'pandas.core.frame.DataFrame'>\n",
      "RangeIndex: 1599 entries, 0 to 1598\n",
      "Data columns (total 13 columns):\n",
      " #   Column              Non-Null Count  Dtype  \n",
      "---  ------              --------------  -----  \n",
      " 0   ID                  1599 non-null   int64  \n",
      " 1   fixedacidity        1582 non-null   float64\n",
      " 2   volatileacidity     1590 non-null   float64\n",
      " 3   citricacid          1579 non-null   float64\n",
      " 4   residualsugar       1582 non-null   float64\n",
      " 5   chlorides           1584 non-null   float64\n",
      " 6   freesulfurdioxide   1587 non-null   float64\n",
      " 7   totalsulfurdioxide  1586 non-null   float64\n",
      " 8   density             1580 non-null   float64\n",
      " 9   pH                  1580 non-null   float64\n",
      " 10  sulphates           1585 non-null   float64\n",
      " 11  alcohol             1581 non-null   float64\n",
      " 12  quality             1585 non-null   float64\n",
      "dtypes: float64(12), int64(1)\n",
      "memory usage: 162.5 KB\n"
     ]
    }
   ],
   "source": [
    "wine_quality.info()"
   ]
  },
  {
   "cell_type": "code",
   "execution_count": 9,
   "metadata": {},
   "outputs": [
    {
     "data": {
      "text/html": [
       "<div>\n",
       "<style scoped>\n",
       "    .dataframe tbody tr th:only-of-type {\n",
       "        vertical-align: middle;\n",
       "    }\n",
       "\n",
       "    .dataframe tbody tr th {\n",
       "        vertical-align: top;\n",
       "    }\n",
       "\n",
       "    .dataframe thead th {\n",
       "        text-align: right;\n",
       "    }\n",
       "</style>\n",
       "<table border=\"1\" class=\"dataframe\">\n",
       "  <thead>\n",
       "    <tr style=\"text-align: right;\">\n",
       "      <th></th>\n",
       "      <th>ID</th>\n",
       "      <th>fixedacidity</th>\n",
       "      <th>volatileacidity</th>\n",
       "      <th>citricacid</th>\n",
       "      <th>residualsugar</th>\n",
       "      <th>chlorides</th>\n",
       "      <th>freesulfurdioxide</th>\n",
       "      <th>totalsulfurdioxide</th>\n",
       "      <th>density</th>\n",
       "      <th>pH</th>\n",
       "      <th>sulphates</th>\n",
       "      <th>alcohol</th>\n",
       "      <th>quality</th>\n",
       "    </tr>\n",
       "  </thead>\n",
       "  <tbody>\n",
       "    <tr>\n",
       "      <th>0</th>\n",
       "      <td>1</td>\n",
       "      <td>7.4</td>\n",
       "      <td>0.70</td>\n",
       "      <td>0.00</td>\n",
       "      <td>1.9</td>\n",
       "      <td>0.076</td>\n",
       "      <td>11.0</td>\n",
       "      <td>34.0</td>\n",
       "      <td>0.9978</td>\n",
       "      <td>3.51</td>\n",
       "      <td>0.56</td>\n",
       "      <td>0.094</td>\n",
       "      <td>5.0</td>\n",
       "    </tr>\n",
       "    <tr>\n",
       "      <th>1</th>\n",
       "      <td>2</td>\n",
       "      <td>7.8</td>\n",
       "      <td>0.88</td>\n",
       "      <td>0.00</td>\n",
       "      <td>2.6</td>\n",
       "      <td>0.098</td>\n",
       "      <td>25.0</td>\n",
       "      <td>67.0</td>\n",
       "      <td>0.9968</td>\n",
       "      <td>3.20</td>\n",
       "      <td>0.68</td>\n",
       "      <td>0.098</td>\n",
       "      <td>5.0</td>\n",
       "    </tr>\n",
       "    <tr>\n",
       "      <th>2</th>\n",
       "      <td>3</td>\n",
       "      <td>7.8</td>\n",
       "      <td>0.76</td>\n",
       "      <td>0.04</td>\n",
       "      <td>2.3</td>\n",
       "      <td>0.092</td>\n",
       "      <td>15.0</td>\n",
       "      <td>54.0</td>\n",
       "      <td>0.9970</td>\n",
       "      <td>3.26</td>\n",
       "      <td>0.65</td>\n",
       "      <td>0.098</td>\n",
       "      <td>5.0</td>\n",
       "    </tr>\n",
       "    <tr>\n",
       "      <th>3</th>\n",
       "      <td>4</td>\n",
       "      <td>11.2</td>\n",
       "      <td>0.28</td>\n",
       "      <td>0.56</td>\n",
       "      <td>1.9</td>\n",
       "      <td>0.075</td>\n",
       "      <td>17.0</td>\n",
       "      <td>60.0</td>\n",
       "      <td>0.9980</td>\n",
       "      <td>3.16</td>\n",
       "      <td>0.58</td>\n",
       "      <td>0.098</td>\n",
       "      <td>6.0</td>\n",
       "    </tr>\n",
       "    <tr>\n",
       "      <th>4</th>\n",
       "      <td>5</td>\n",
       "      <td>7.4</td>\n",
       "      <td>0.70</td>\n",
       "      <td>0.00</td>\n",
       "      <td>1.9</td>\n",
       "      <td>0.076</td>\n",
       "      <td>11.0</td>\n",
       "      <td>34.0</td>\n",
       "      <td>0.9978</td>\n",
       "      <td>3.51</td>\n",
       "      <td>0.56</td>\n",
       "      <td>0.094</td>\n",
       "      <td>5.0</td>\n",
       "    </tr>\n",
       "  </tbody>\n",
       "</table>\n",
       "</div>"
      ],
      "text/plain": [
       "   ID  fixedacidity  volatileacidity  citricacid  residualsugar  chlorides  \\\n",
       "0   1           7.4             0.70        0.00            1.9      0.076   \n",
       "1   2           7.8             0.88        0.00            2.6      0.098   \n",
       "2   3           7.8             0.76        0.04            2.3      0.092   \n",
       "3   4          11.2             0.28        0.56            1.9      0.075   \n",
       "4   5           7.4             0.70        0.00            1.9      0.076   \n",
       "\n",
       "   freesulfurdioxide  totalsulfurdioxide  density    pH  sulphates  alcohol  \\\n",
       "0               11.0                34.0   0.9978  3.51       0.56    0.094   \n",
       "1               25.0                67.0   0.9968  3.20       0.68    0.098   \n",
       "2               15.0                54.0   0.9970  3.26       0.65    0.098   \n",
       "3               17.0                60.0   0.9980  3.16       0.58    0.098   \n",
       "4               11.0                34.0   0.9978  3.51       0.56    0.094   \n",
       "\n",
       "   quality  \n",
       "0      5.0  \n",
       "1      5.0  \n",
       "2      5.0  \n",
       "3      6.0  \n",
       "4      5.0  "
      ]
     },
     "execution_count": 9,
     "metadata": {},
     "output_type": "execute_result"
    }
   ],
   "source": [
    "wine_quality.head()"
   ]
  },
  {
   "cell_type": "code",
   "execution_count": 10,
   "metadata": {},
   "outputs": [
    {
     "data": {
      "text/html": [
       "<div>\n",
       "<style scoped>\n",
       "    .dataframe tbody tr th:only-of-type {\n",
       "        vertical-align: middle;\n",
       "    }\n",
       "\n",
       "    .dataframe tbody tr th {\n",
       "        vertical-align: top;\n",
       "    }\n",
       "\n",
       "    .dataframe thead th {\n",
       "        text-align: right;\n",
       "    }\n",
       "</style>\n",
       "<table border=\"1\" class=\"dataframe\">\n",
       "  <thead>\n",
       "    <tr style=\"text-align: right;\">\n",
       "      <th></th>\n",
       "      <th>fixedacidity</th>\n",
       "      <th>volatileacidity</th>\n",
       "      <th>citricacid</th>\n",
       "      <th>residualsugar</th>\n",
       "      <th>chlorides</th>\n",
       "      <th>freesulfurdioxide</th>\n",
       "      <th>totalsulfurdioxide</th>\n",
       "      <th>density</th>\n",
       "      <th>pH</th>\n",
       "      <th>sulphates</th>\n",
       "      <th>alcohol</th>\n",
       "      <th>quality</th>\n",
       "    </tr>\n",
       "  </thead>\n",
       "  <tbody>\n",
       "    <tr>\n",
       "      <th>0</th>\n",
       "      <td>7.4</td>\n",
       "      <td>0.70</td>\n",
       "      <td>0.00</td>\n",
       "      <td>1.9</td>\n",
       "      <td>0.076</td>\n",
       "      <td>11.0</td>\n",
       "      <td>34.0</td>\n",
       "      <td>0.9978</td>\n",
       "      <td>3.51</td>\n",
       "      <td>0.56</td>\n",
       "      <td>0.094</td>\n",
       "      <td>5.0</td>\n",
       "    </tr>\n",
       "    <tr>\n",
       "      <th>1</th>\n",
       "      <td>7.8</td>\n",
       "      <td>0.88</td>\n",
       "      <td>0.00</td>\n",
       "      <td>2.6</td>\n",
       "      <td>0.098</td>\n",
       "      <td>25.0</td>\n",
       "      <td>67.0</td>\n",
       "      <td>0.9968</td>\n",
       "      <td>3.20</td>\n",
       "      <td>0.68</td>\n",
       "      <td>0.098</td>\n",
       "      <td>5.0</td>\n",
       "    </tr>\n",
       "    <tr>\n",
       "      <th>2</th>\n",
       "      <td>7.8</td>\n",
       "      <td>0.76</td>\n",
       "      <td>0.04</td>\n",
       "      <td>2.3</td>\n",
       "      <td>0.092</td>\n",
       "      <td>15.0</td>\n",
       "      <td>54.0</td>\n",
       "      <td>0.9970</td>\n",
       "      <td>3.26</td>\n",
       "      <td>0.65</td>\n",
       "      <td>0.098</td>\n",
       "      <td>5.0</td>\n",
       "    </tr>\n",
       "    <tr>\n",
       "      <th>3</th>\n",
       "      <td>11.2</td>\n",
       "      <td>0.28</td>\n",
       "      <td>0.56</td>\n",
       "      <td>1.9</td>\n",
       "      <td>0.075</td>\n",
       "      <td>17.0</td>\n",
       "      <td>60.0</td>\n",
       "      <td>0.9980</td>\n",
       "      <td>3.16</td>\n",
       "      <td>0.58</td>\n",
       "      <td>0.098</td>\n",
       "      <td>6.0</td>\n",
       "    </tr>\n",
       "    <tr>\n",
       "      <th>4</th>\n",
       "      <td>7.4</td>\n",
       "      <td>0.70</td>\n",
       "      <td>0.00</td>\n",
       "      <td>1.9</td>\n",
       "      <td>0.076</td>\n",
       "      <td>11.0</td>\n",
       "      <td>34.0</td>\n",
       "      <td>0.9978</td>\n",
       "      <td>3.51</td>\n",
       "      <td>0.56</td>\n",
       "      <td>0.094</td>\n",
       "      <td>5.0</td>\n",
       "    </tr>\n",
       "  </tbody>\n",
       "</table>\n",
       "</div>"
      ],
      "text/plain": [
       "   fixedacidity  volatileacidity  citricacid  residualsugar  chlorides  \\\n",
       "0           7.4             0.70        0.00            1.9      0.076   \n",
       "1           7.8             0.88        0.00            2.6      0.098   \n",
       "2           7.8             0.76        0.04            2.3      0.092   \n",
       "3          11.2             0.28        0.56            1.9      0.075   \n",
       "4           7.4             0.70        0.00            1.9      0.076   \n",
       "\n",
       "   freesulfurdioxide  totalsulfurdioxide  density    pH  sulphates  alcohol  \\\n",
       "0               11.0                34.0   0.9978  3.51       0.56    0.094   \n",
       "1               25.0                67.0   0.9968  3.20       0.68    0.098   \n",
       "2               15.0                54.0   0.9970  3.26       0.65    0.098   \n",
       "3               17.0                60.0   0.9980  3.16       0.58    0.098   \n",
       "4               11.0                34.0   0.9978  3.51       0.56    0.094   \n",
       "\n",
       "   quality  \n",
       "0      5.0  \n",
       "1      5.0  \n",
       "2      5.0  \n",
       "3      6.0  \n",
       "4      5.0  "
      ]
     },
     "execution_count": 10,
     "metadata": {},
     "output_type": "execute_result"
    }
   ],
   "source": [
    "wine_quality = wine_quality.drop(\"ID\", axis=\"columns\")\n",
    "\n",
    "wine_quality.head()"
   ]
  },
  {
   "cell_type": "code",
   "execution_count": 11,
   "metadata": {},
   "outputs": [],
   "source": [
    "# Preverimo, da ni null vrednosti:"
   ]
  },
  {
   "cell_type": "code",
   "execution_count": 12,
   "metadata": {},
   "outputs": [
    {
     "data": {
      "text/plain": [
       "fixedacidity          17\n",
       "volatileacidity        9\n",
       "citricacid            20\n",
       "residualsugar         17\n",
       "chlorides             15\n",
       "freesulfurdioxide     12\n",
       "totalsulfurdioxide    13\n",
       "density               19\n",
       "pH                    19\n",
       "sulphates             14\n",
       "alcohol               18\n",
       "quality               14\n",
       "dtype: int64"
      ]
     },
     "execution_count": 12,
     "metadata": {},
     "output_type": "execute_result"
    }
   ],
   "source": [
    "wine_quality.isnull().sum()"
   ]
  },
  {
   "cell_type": "code",
   "execution_count": 13,
   "metadata": {},
   "outputs": [],
   "source": [
    "wine_quality = wine_quality.dropna(axis=0)"
   ]
  },
  {
   "cell_type": "code",
   "execution_count": 14,
   "metadata": {},
   "outputs": [
    {
     "data": {
      "text/plain": [
       "fixedacidity          0\n",
       "volatileacidity       0\n",
       "citricacid            0\n",
       "residualsugar         0\n",
       "chlorides             0\n",
       "freesulfurdioxide     0\n",
       "totalsulfurdioxide    0\n",
       "density               0\n",
       "pH                    0\n",
       "sulphates             0\n",
       "alcohol               0\n",
       "quality               0\n",
       "dtype: int64"
      ]
     },
     "execution_count": 14,
     "metadata": {},
     "output_type": "execute_result"
    }
   ],
   "source": [
    "wine_quality.isnull().sum()"
   ]
  },
  {
   "cell_type": "markdown",
   "metadata": {},
   "source": [
    "# Seperating features and labels"
   ]
  },
  {
   "cell_type": "code",
   "execution_count": null,
   "metadata": {},
   "outputs": [],
   "source": []
  },
  {
   "cell_type": "markdown",
   "metadata": {},
   "source": [
    "# Scaling features"
   ]
  },
  {
   "cell_type": "code",
   "execution_count": 15,
   "metadata": {},
   "outputs": [],
   "source": [
    "from sklearn.preprocessing import MinMaxScaler"
   ]
  },
  {
   "cell_type": "code",
   "execution_count": 16,
   "metadata": {},
   "outputs": [],
   "source": [
    "scaler = MinMaxScaler()\n",
    "\n",
    "wine_quality_scaled = pd.DataFrame(scaler.fit_transform(wine_quality), columns = wine_quality.columns)"
   ]
  },
  {
   "cell_type": "code",
   "execution_count": 17,
   "metadata": {},
   "outputs": [
    {
     "data": {
      "text/html": [
       "<div>\n",
       "<style scoped>\n",
       "    .dataframe tbody tr th:only-of-type {\n",
       "        vertical-align: middle;\n",
       "    }\n",
       "\n",
       "    .dataframe tbody tr th {\n",
       "        vertical-align: top;\n",
       "    }\n",
       "\n",
       "    .dataframe thead th {\n",
       "        text-align: right;\n",
       "    }\n",
       "</style>\n",
       "<table border=\"1\" class=\"dataframe\">\n",
       "  <thead>\n",
       "    <tr style=\"text-align: right;\">\n",
       "      <th></th>\n",
       "      <th>fixedacidity</th>\n",
       "      <th>volatileacidity</th>\n",
       "      <th>citricacid</th>\n",
       "      <th>residualsugar</th>\n",
       "      <th>chlorides</th>\n",
       "      <th>freesulfurdioxide</th>\n",
       "      <th>totalsulfurdioxide</th>\n",
       "      <th>density</th>\n",
       "      <th>pH</th>\n",
       "      <th>sulphates</th>\n",
       "      <th>alcohol</th>\n",
       "      <th>quality</th>\n",
       "    </tr>\n",
       "  </thead>\n",
       "  <tbody>\n",
       "    <tr>\n",
       "      <th>0</th>\n",
       "      <td>0.247788</td>\n",
       "      <td>0.397260</td>\n",
       "      <td>0.00</td>\n",
       "      <td>0.068493</td>\n",
       "      <td>0.107023</td>\n",
       "      <td>0.140845</td>\n",
       "      <td>0.098940</td>\n",
       "      <td>0.567548</td>\n",
       "      <td>0.606299</td>\n",
       "      <td>0.137725</td>\n",
       "      <td>0.153846</td>\n",
       "      <td>0.4</td>\n",
       "    </tr>\n",
       "    <tr>\n",
       "      <th>1</th>\n",
       "      <td>0.283186</td>\n",
       "      <td>0.520548</td>\n",
       "      <td>0.00</td>\n",
       "      <td>0.116438</td>\n",
       "      <td>0.143813</td>\n",
       "      <td>0.338028</td>\n",
       "      <td>0.215548</td>\n",
       "      <td>0.494126</td>\n",
       "      <td>0.362205</td>\n",
       "      <td>0.209581</td>\n",
       "      <td>0.215385</td>\n",
       "      <td>0.4</td>\n",
       "    </tr>\n",
       "    <tr>\n",
       "      <th>2</th>\n",
       "      <td>0.283186</td>\n",
       "      <td>0.438356</td>\n",
       "      <td>0.04</td>\n",
       "      <td>0.095890</td>\n",
       "      <td>0.133779</td>\n",
       "      <td>0.197183</td>\n",
       "      <td>0.169611</td>\n",
       "      <td>0.508811</td>\n",
       "      <td>0.409449</td>\n",
       "      <td>0.191617</td>\n",
       "      <td>0.215385</td>\n",
       "      <td>0.4</td>\n",
       "    </tr>\n",
       "    <tr>\n",
       "      <th>3</th>\n",
       "      <td>0.584071</td>\n",
       "      <td>0.109589</td>\n",
       "      <td>0.56</td>\n",
       "      <td>0.068493</td>\n",
       "      <td>0.105351</td>\n",
       "      <td>0.225352</td>\n",
       "      <td>0.190813</td>\n",
       "      <td>0.582232</td>\n",
       "      <td>0.330709</td>\n",
       "      <td>0.149701</td>\n",
       "      <td>0.215385</td>\n",
       "      <td>0.6</td>\n",
       "    </tr>\n",
       "    <tr>\n",
       "      <th>4</th>\n",
       "      <td>0.247788</td>\n",
       "      <td>0.397260</td>\n",
       "      <td>0.00</td>\n",
       "      <td>0.068493</td>\n",
       "      <td>0.107023</td>\n",
       "      <td>0.140845</td>\n",
       "      <td>0.098940</td>\n",
       "      <td>0.567548</td>\n",
       "      <td>0.606299</td>\n",
       "      <td>0.137725</td>\n",
       "      <td>0.153846</td>\n",
       "      <td>0.4</td>\n",
       "    </tr>\n",
       "  </tbody>\n",
       "</table>\n",
       "</div>"
      ],
      "text/plain": [
       "   fixedacidity  volatileacidity  citricacid  residualsugar  chlorides  \\\n",
       "0      0.247788         0.397260        0.00       0.068493   0.107023   \n",
       "1      0.283186         0.520548        0.00       0.116438   0.143813   \n",
       "2      0.283186         0.438356        0.04       0.095890   0.133779   \n",
       "3      0.584071         0.109589        0.56       0.068493   0.105351   \n",
       "4      0.247788         0.397260        0.00       0.068493   0.107023   \n",
       "\n",
       "   freesulfurdioxide  totalsulfurdioxide   density        pH  sulphates  \\\n",
       "0           0.140845            0.098940  0.567548  0.606299   0.137725   \n",
       "1           0.338028            0.215548  0.494126  0.362205   0.209581   \n",
       "2           0.197183            0.169611  0.508811  0.409449   0.191617   \n",
       "3           0.225352            0.190813  0.582232  0.330709   0.149701   \n",
       "4           0.140845            0.098940  0.567548  0.606299   0.137725   \n",
       "\n",
       "    alcohol  quality  \n",
       "0  0.153846      0.4  \n",
       "1  0.215385      0.4  \n",
       "2  0.215385      0.4  \n",
       "3  0.215385      0.6  \n",
       "4  0.153846      0.4  "
      ]
     },
     "execution_count": 17,
     "metadata": {},
     "output_type": "execute_result"
    }
   ],
   "source": [
    "wine_quality_scaled.head()"
   ]
  },
  {
   "cell_type": "markdown",
   "metadata": {},
   "source": [
    "# Building a model"
   ]
  },
  {
   "cell_type": "code",
   "execution_count": 18,
   "metadata": {},
   "outputs": [],
   "source": [
    "from sklearn.neighbors import KNeighborsRegressor\n",
    "\n",
    "knn = KNeighborsRegressor()\n",
    "knn = KNeighborsRegressor(algorithm=\"brute\", n_neighbors=13)"
   ]
  },
  {
   "cell_type": "code",
   "execution_count": 19,
   "metadata": {},
   "outputs": [],
   "source": [
    "# Izberemo vse featurje, na katerih bomo trenirali."
   ]
  },
  {
   "cell_type": "code",
   "execution_count": 20,
   "metadata": {},
   "outputs": [],
   "source": [
    "features_all = wine_quality_scaled.columns"
   ]
  },
  {
   "cell_type": "code",
   "execution_count": 21,
   "metadata": {},
   "outputs": [
    {
     "data": {
      "text/plain": [
       "['fixedacidity',\n",
       " 'volatileacidity',\n",
       " 'citricacid',\n",
       " 'residualsugar',\n",
       " 'chlorides',\n",
       " 'freesulfurdioxide',\n",
       " 'totalsulfurdioxide',\n",
       " 'density',\n",
       " 'pH',\n",
       " 'sulphates',\n",
       " 'alcohol',\n",
       " 'quality']"
      ]
     },
     "execution_count": 21,
     "metadata": {},
     "output_type": "execute_result"
    }
   ],
   "source": [
    "features_all.tolist()"
   ]
  },
  {
   "cell_type": "code",
   "execution_count": 22,
   "metadata": {},
   "outputs": [],
   "source": [
    "import numpy as np\n",
    "from sklearn.model_selection import KFold\n",
    "from sklearn.model_selection import cross_val_score, train_test_split"
   ]
  },
  {
   "cell_type": "code",
   "execution_count": 23,
   "metadata": {},
   "outputs": [],
   "source": [
    "shuffled_index = np.random.permutation(wine_quality_scaled.index)\n",
    "wine_quality_scaled = wine_quality_scaled.reindex(shuffled_index)"
   ]
  },
  {
   "cell_type": "code",
   "execution_count": 24,
   "metadata": {},
   "outputs": [],
   "source": [
    "split_one = wine_quality_scaled.iloc[0:700].copy()\n",
    "split_two = wine_quality_scaled.iloc[700:].copy()"
   ]
  },
  {
   "cell_type": "code",
   "execution_count": 25,
   "metadata": {},
   "outputs": [],
   "source": [
    "from sklearn.neighbors import KNeighborsRegressor\n",
    "from sklearn.metrics import mean_squared_error\n",
    "\n",
    "train_one = split_one\n",
    "test_one = split_two\n",
    "train_two = split_two\n",
    "test_two = split_one"
   ]
  },
  {
   "cell_type": "code",
   "execution_count": 26,
   "metadata": {},
   "outputs": [
    {
     "data": {
      "text/html": [
       "<div>\n",
       "<style scoped>\n",
       "    .dataframe tbody tr th:only-of-type {\n",
       "        vertical-align: middle;\n",
       "    }\n",
       "\n",
       "    .dataframe tbody tr th {\n",
       "        vertical-align: top;\n",
       "    }\n",
       "\n",
       "    .dataframe thead th {\n",
       "        text-align: right;\n",
       "    }\n",
       "</style>\n",
       "<table border=\"1\" class=\"dataframe\">\n",
       "  <thead>\n",
       "    <tr style=\"text-align: right;\">\n",
       "      <th></th>\n",
       "      <th>fixedacidity</th>\n",
       "      <th>volatileacidity</th>\n",
       "      <th>citricacid</th>\n",
       "      <th>residualsugar</th>\n",
       "      <th>chlorides</th>\n",
       "      <th>freesulfurdioxide</th>\n",
       "      <th>totalsulfurdioxide</th>\n",
       "      <th>density</th>\n",
       "      <th>pH</th>\n",
       "      <th>sulphates</th>\n",
       "      <th>alcohol</th>\n",
       "      <th>quality</th>\n",
       "    </tr>\n",
       "  </thead>\n",
       "  <tbody>\n",
       "    <tr>\n",
       "      <th>699</th>\n",
       "      <td>0.486726</td>\n",
       "      <td>0.102740</td>\n",
       "      <td>0.54</td>\n",
       "      <td>0.095890</td>\n",
       "      <td>0.088629</td>\n",
       "      <td>0.084507</td>\n",
       "      <td>0.070671</td>\n",
       "      <td>0.384728</td>\n",
       "      <td>0.338583</td>\n",
       "      <td>0.119760</td>\n",
       "      <td>0.630769</td>\n",
       "      <td>0.6</td>\n",
       "    </tr>\n",
       "    <tr>\n",
       "      <th>1278</th>\n",
       "      <td>0.194690</td>\n",
       "      <td>0.544521</td>\n",
       "      <td>0.29</td>\n",
       "      <td>0.267123</td>\n",
       "      <td>0.096990</td>\n",
       "      <td>0.197183</td>\n",
       "      <td>0.116608</td>\n",
       "      <td>0.418502</td>\n",
       "      <td>0.622047</td>\n",
       "      <td>0.125749</td>\n",
       "      <td>0.415385</td>\n",
       "      <td>0.4</td>\n",
       "    </tr>\n",
       "    <tr>\n",
       "      <th>662</th>\n",
       "      <td>0.327434</td>\n",
       "      <td>0.363014</td>\n",
       "      <td>0.10</td>\n",
       "      <td>0.136986</td>\n",
       "      <td>0.128763</td>\n",
       "      <td>0.225352</td>\n",
       "      <td>0.120141</td>\n",
       "      <td>0.584435</td>\n",
       "      <td>0.433071</td>\n",
       "      <td>0.131737</td>\n",
       "      <td>0.169231</td>\n",
       "      <td>0.4</td>\n",
       "    </tr>\n",
       "    <tr>\n",
       "      <th>1141</th>\n",
       "      <td>0.362832</td>\n",
       "      <td>0.349315</td>\n",
       "      <td>0.28</td>\n",
       "      <td>0.123288</td>\n",
       "      <td>0.140468</td>\n",
       "      <td>0.225352</td>\n",
       "      <td>0.222615</td>\n",
       "      <td>0.533774</td>\n",
       "      <td>0.409449</td>\n",
       "      <td>0.179641</td>\n",
       "      <td>0.276923</td>\n",
       "      <td>0.6</td>\n",
       "    </tr>\n",
       "    <tr>\n",
       "      <th>623</th>\n",
       "      <td>0.212389</td>\n",
       "      <td>0.452055</td>\n",
       "      <td>0.08</td>\n",
       "      <td>0.075342</td>\n",
       "      <td>0.135452</td>\n",
       "      <td>0.126761</td>\n",
       "      <td>0.045936</td>\n",
       "      <td>0.406021</td>\n",
       "      <td>0.519685</td>\n",
       "      <td>0.083832</td>\n",
       "      <td>0.246154</td>\n",
       "      <td>0.4</td>\n",
       "    </tr>\n",
       "  </tbody>\n",
       "</table>\n",
       "</div>"
      ],
      "text/plain": [
       "      fixedacidity  volatileacidity  citricacid  residualsugar  chlorides  \\\n",
       "699       0.486726         0.102740        0.54       0.095890   0.088629   \n",
       "1278      0.194690         0.544521        0.29       0.267123   0.096990   \n",
       "662       0.327434         0.363014        0.10       0.136986   0.128763   \n",
       "1141      0.362832         0.349315        0.28       0.123288   0.140468   \n",
       "623       0.212389         0.452055        0.08       0.075342   0.135452   \n",
       "\n",
       "      freesulfurdioxide  totalsulfurdioxide   density        pH  sulphates  \\\n",
       "699            0.084507            0.070671  0.384728  0.338583   0.119760   \n",
       "1278           0.197183            0.116608  0.418502  0.622047   0.125749   \n",
       "662            0.225352            0.120141  0.584435  0.433071   0.131737   \n",
       "1141           0.225352            0.222615  0.533774  0.409449   0.179641   \n",
       "623            0.126761            0.045936  0.406021  0.519685   0.083832   \n",
       "\n",
       "       alcohol  quality  \n",
       "699   0.630769      0.6  \n",
       "1278  0.415385      0.4  \n",
       "662   0.169231      0.4  \n",
       "1141  0.276923      0.6  \n",
       "623   0.246154      0.4  "
      ]
     },
     "execution_count": 26,
     "metadata": {},
     "output_type": "execute_result"
    }
   ],
   "source": [
    "train_one.head()"
   ]
  },
  {
   "cell_type": "code",
   "execution_count": 27,
   "metadata": {},
   "outputs": [
    {
     "data": {
      "text/plain": [
       "0.13489209283054163"
      ]
     },
     "execution_count": 27,
     "metadata": {},
     "output_type": "execute_result"
    }
   ],
   "source": [
    "# First half\n",
    "knn.fit(train_one[[\"fixedacidity\", \n",
    "                   \"volatileacidity\", \n",
    "                   \"citricacid\", \n",
    "                   \"residualsugar\", \n",
    "                   \"chlorides\", \n",
    "                   \"freesulfurdioxide\", \n",
    "                   \"totalsulfurdioxide\", \n",
    "                   \"density\", \n",
    "                   \"pH\", \n",
    "                   \"sulphates\", \n",
    "                   \"alcohol\"]], \n",
    "        train_one[\"quality\"])\n",
    "\n",
    "test_one[\"predicted_quality\"] = knn.predict(test_one[[\"fixedacidity\", \n",
    "                                                      \"volatileacidity\", \n",
    "                                                      \"citricacid\", \n",
    "                                                      \"residualsugar\", \n",
    "                                                      \"chlorides\", \n",
    "                                                      \"freesulfurdioxide\", \n",
    "                                                      \"totalsulfurdioxide\", \n",
    "                                                      \"density\", \n",
    "                                                      \"pH\", \n",
    "                                                      \"sulphates\", \n",
    "                                                      \"alcohol\"]])\n",
    "\n",
    "iteration_one_rmse = mean_squared_error(test_one[\"quality\"], test_one[\"predicted_quality\"])**(1/2)\n",
    "\n",
    "iteration_one_rmse"
   ]
  },
  {
   "cell_type": "code",
   "execution_count": 28,
   "metadata": {},
   "outputs": [
    {
     "data": {
      "text/plain": [
       "0.13370081789831334"
      ]
     },
     "execution_count": 28,
     "metadata": {},
     "output_type": "execute_result"
    }
   ],
   "source": [
    "# Second half\n",
    "knn.fit(train_two[[\"fixedacidity\", \n",
    "                   \"volatileacidity\", \n",
    "                   \"citricacid\", \n",
    "                   \"residualsugar\", \n",
    "                   \"chlorides\", \n",
    "                   \"freesulfurdioxide\", \n",
    "                   \"totalsulfurdioxide\", \n",
    "                   \"density\", \n",
    "                   \"pH\", \n",
    "                   \"sulphates\", \n",
    "                   \"alcohol\"]], \n",
    "        train_two[\"quality\"])\n",
    "\n",
    "test_two[\"predicted_quality\"] = knn.predict(test_two[[\"fixedacidity\", \n",
    "                                                      \"volatileacidity\", \n",
    "                                                      \"citricacid\", \n",
    "                                                      \"residualsugar\", \n",
    "                                                      \"chlorides\", \n",
    "                                                      \"freesulfurdioxide\", \n",
    "                                                      \"totalsulfurdioxide\", \n",
    "                                                      \"density\", \n",
    "                                                      \"pH\", \n",
    "                                                      \"sulphates\", \n",
    "                                                      \"alcohol\"]])\n",
    "\n",
    "iteration_two_rmse = mean_squared_error(test_two[\"quality\"], test_two[\"predicted_quality\"])**(1/2)\n",
    "\n",
    "iteration_two_rmse"
   ]
  },
  {
   "cell_type": "code",
   "execution_count": 29,
   "metadata": {},
   "outputs": [],
   "source": [
    "wine_quality_scaled.loc[wine_quality_scaled.index[0:159], \"fold\"] = 1\n",
    "wine_quality_scaled.loc[wine_quality_scaled.index[159:318], \"fold\"] = 2\n",
    "wine_quality_scaled.loc[wine_quality_scaled.index[318:477], \"fold\"] = 3\n",
    "wine_quality_scaled.loc[wine_quality_scaled.index[477:636], \"fold\"] = 4\n",
    "wine_quality_scaled.loc[wine_quality_scaled.index[636:795], \"fold\"] = 5\n",
    "wine_quality_scaled.loc[wine_quality_scaled.index[795:954], \"fold\"] = 6\n",
    "wine_quality_scaled.loc[wine_quality_scaled.index[954:1113], \"fold\"] = 7\n",
    "wine_quality_scaled.loc[wine_quality_scaled.index[1113:1272], \"fold\"] = 8\n",
    "wine_quality_scaled.loc[wine_quality_scaled.index[1272:1430], \"fold\"] = 9"
   ]
  },
  {
   "cell_type": "code",
   "execution_count": 30,
   "metadata": {},
   "outputs": [
    {
     "data": {
      "text/plain": [
       "8.0    159\n",
       "7.0    159\n",
       "6.0    159\n",
       "5.0    159\n",
       "4.0    159\n",
       "3.0    159\n",
       "2.0    159\n",
       "1.0    159\n",
       "9.0    155\n",
       "Name: fold, dtype: int64"
      ]
     },
     "execution_count": 30,
     "metadata": {},
     "output_type": "execute_result"
    }
   ],
   "source": [
    "# Preverimo, če je enakomerno razdeljeno:\n",
    "\n",
    "wine_quality_scaled[\"fold\"].value_counts()"
   ]
  },
  {
   "cell_type": "code",
   "execution_count": 31,
   "metadata": {},
   "outputs": [
    {
     "data": {
      "text/plain": [
       "0"
      ]
     },
     "execution_count": 31,
     "metadata": {},
     "output_type": "execute_result"
    }
   ],
   "source": [
    "# Preverimo, da ni nul:\n",
    "\n",
    "wine_quality_scaled[\"fold\"].isnull().sum()"
   ]
  },
  {
   "cell_type": "code",
   "execution_count": 32,
   "metadata": {},
   "outputs": [],
   "source": [
    "fold_ids = [1,2,3,4,5,6,7,8,9]"
   ]
  },
  {
   "cell_type": "code",
   "execution_count": 33,
   "metadata": {},
   "outputs": [],
   "source": [
    "# Prva iteracija\n",
    "def train_and_validate(df, folds):\n",
    "    fold_rmses = []\n",
    "    for fold in fold_ids:\n",
    "        # Training\n",
    "        model = KNeighborsRegressor()\n",
    "        train = df[df[\"fold\"] != fold].copy()\n",
    "        test = df[df[\"fold\"] == fold].copy()\n",
    "        \n",
    "        model.fit(train[[\"fixedacidity\"]], train[\"quality\"])\n",
    "        \n",
    "        # Predicting\n",
    "        labels = model.predict(test[[\"fixedacidity\"]])\n",
    "        test[\"predicted_quality\"] = labels\n",
    "        rmse = mean_squared_error(test[\"quality\"], test[\"predicted_quality\"])**(1/2)\n",
    "        fold_rmses.append(rmse)\n",
    "    return fold_rmses"
   ]
  },
  {
   "cell_type": "code",
   "execution_count": 34,
   "metadata": {},
   "outputs": [
    {
     "data": {
      "text/plain": [
       "[0.1847520861406803,\n",
       " 0.1736909711502573,\n",
       " 0.17144594101880606,\n",
       " 0.16920085938791826,\n",
       " 0.17699092113304016,\n",
       " 0.17820912032227124,\n",
       " 0.16144006033745475,\n",
       " 0.16845580574906305,\n",
       " 0.1691267896216976]"
      ]
     },
     "execution_count": 34,
     "metadata": {},
     "output_type": "execute_result"
    }
   ],
   "source": [
    "rmses = train_and_validate(wine_quality_scaled, fold_ids)\n",
    "\n",
    "rmses"
   ]
  },
  {
   "cell_type": "code",
   "execution_count": 35,
   "metadata": {},
   "outputs": [],
   "source": [
    "# Narejeno podobno, samo s scikit learn. Poskus s samo enim stolpcem."
   ]
  },
  {
   "cell_type": "code",
   "execution_count": 36,
   "metadata": {},
   "outputs": [],
   "source": [
    "from sklearn.model_selection import cross_val_score, KFold"
   ]
  },
  {
   "cell_type": "code",
   "execution_count": 37,
   "metadata": {},
   "outputs": [],
   "source": [
    "kf = KFold(9, shuffle=True, random_state=2020)"
   ]
  },
  {
   "cell_type": "code",
   "execution_count": 38,
   "metadata": {},
   "outputs": [],
   "source": [
    "knn = KNeighborsRegressor(algorithm=\"brute\", n_neighbors=13)"
   ]
  },
  {
   "cell_type": "code",
   "execution_count": 39,
   "metadata": {},
   "outputs": [
    {
     "data": {
      "text/plain": [
       "array([-0.02454691, -0.0272502 , -0.02678575, -0.02420751, -0.03075881,\n",
       "       -0.02350835, -0.03339375, -0.02482511, -0.02866602])"
      ]
     },
     "execution_count": 39,
     "metadata": {},
     "output_type": "execute_result"
    }
   ],
   "source": [
    "mses = cross_val_score(knn,\n",
    "                       wine_quality_scaled[[\"fixedacidity\"]],\n",
    "                        wine_quality_scaled[\"quality\"],\n",
    "                        scoring = \"neg_mean_squared_error\",\n",
    "                        cv=kf)\n",
    "mses"
   ]
  },
  {
   "cell_type": "code",
   "execution_count": 40,
   "metadata": {},
   "outputs": [
    {
     "data": {
      "text/plain": [
       "0.16436867917271628"
      ]
     },
     "execution_count": 40,
     "metadata": {},
     "output_type": "execute_result"
    }
   ],
   "source": [
    "rmses = np.sqrt(np.absolute(mses))\n",
    "avg_rmse = np.mean(rmses)\n",
    "avg_rmse"
   ]
  },
  {
   "cell_type": "code",
   "execution_count": 41,
   "metadata": {},
   "outputs": [
    {
     "data": {
      "text/plain": [
       "array([-0.01712329, -0.01738677, -0.01833054, -0.01740613, -0.01763983,\n",
       "       -0.01481237, -0.02258108, -0.01558535, -0.0182668 ])"
      ]
     },
     "execution_count": 41,
     "metadata": {},
     "output_type": "execute_result"
    }
   ],
   "source": [
    "# Poskus z vsemi stolpci.\n",
    "\n",
    "mses = cross_val_score(knn,\n",
    "                       wine_quality_scaled[[\"fixedacidity\", \n",
    "                                            \"volatileacidity\", \n",
    "                                            \"citricacid\", \n",
    "                                            \"residualsugar\",\n",
    "                                            \"chlorides\", \n",
    "                                            \"freesulfurdioxide\", \n",
    "                                            \"totalsulfurdioxide\", \n",
    "                                            \"density\",\n",
    "                                            \"pH\", \n",
    "                                            \"sulphates\", \n",
    "                                            \"alcohol\"]],\n",
    "                        wine_quality_scaled[\"quality\"],\n",
    "                        scoring = \"neg_mean_squared_error\",\n",
    "                        cv=kf)\n",
    "\n",
    "mses"
   ]
  },
  {
   "cell_type": "code",
   "execution_count": 42,
   "metadata": {},
   "outputs": [
    {
     "data": {
      "text/plain": [
       "0.13275829940152367"
      ]
     },
     "execution_count": 42,
     "metadata": {},
     "output_type": "execute_result"
    }
   ],
   "source": [
    "rmses = np.sqrt(np.absolute(mses))\n",
    "\n",
    "avg_rmse = np.mean(rmses)\n",
    "\n",
    "avg_rmse"
   ]
  },
  {
   "cell_type": "code",
   "execution_count": null,
   "metadata": {},
   "outputs": [],
   "source": []
  },
  {
   "cell_type": "code",
   "execution_count": null,
   "metadata": {},
   "outputs": [],
   "source": []
  }
 ],
 "metadata": {
  "kernelspec": {
   "display_name": "Python 3",
   "language": "python",
   "name": "python3"
  },
  "language_info": {
   "codemirror_mode": {
    "name": "ipython",
    "version": 3
   },
   "file_extension": ".py",
   "mimetype": "text/x-python",
   "name": "python",
   "nbconvert_exporter": "python",
   "pygments_lexer": "ipython3",
   "version": "3.7.6"
  },
  "toc": {
   "base_numbering": 1,
   "nav_menu": {},
   "number_sections": true,
   "sideBar": true,
   "skip_h1_title": false,
   "title_cell": "Table of Contents",
   "title_sidebar": "Contents",
   "toc_cell": false,
   "toc_position": {},
   "toc_section_display": true,
   "toc_window_display": false
  }
 },
 "nbformat": 4,
 "nbformat_minor": 4
}
